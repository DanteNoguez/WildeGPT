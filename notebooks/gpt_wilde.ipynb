{
  "nbformat": 4,
  "nbformat_minor": 0,
  "metadata": {
    "colab": {
      "provenance": []
    },
    "kernelspec": {
      "name": "python3",
      "display_name": "Python 3"
    },
    "language_info": {
      "name": "python"
    },
    "accelerator": "GPU",
    "gpuClass": "premium"
  },
  "cells": [
    {
      "cell_type": "code",
      "execution_count": 2,
      "metadata": {
        "colab": {
          "base_uri": "https://localhost:8080/"
        },
        "id": "IstBu2UjxjfS",
        "outputId": "81c2a6c1-091a-4671-864c-170ba5e205bb"
      },
      "outputs": [
        {
          "output_type": "stream",
          "name": "stdout",
          "text": [
            "--2023-01-21 03:32:22--  https://github.com/DanteNoguez/gpt-wilde/raw/main/data/wilde.txt\n",
            "Resolving github.com (github.com)... 140.82.114.4\n",
            "Connecting to github.com (github.com)|140.82.114.4|:443... connected.\n",
            "HTTP request sent, awaiting response... 302 Found\n",
            "Location: https://raw.githubusercontent.com/DanteNoguez/gpt-wilde/main/data/wilde.txt [following]\n",
            "--2023-01-21 03:32:23--  https://raw.githubusercontent.com/DanteNoguez/gpt-wilde/main/data/wilde.txt\n",
            "Resolving raw.githubusercontent.com (raw.githubusercontent.com)... 185.199.108.133, 185.199.109.133, 185.199.110.133, ...\n",
            "Connecting to raw.githubusercontent.com (raw.githubusercontent.com)|185.199.108.133|:443... connected.\n",
            "HTTP request sent, awaiting response... 200 OK\n",
            "Length: 4818475 (4.6M) [text/plain]\n",
            "Saving to: ‘wilde.txt’\n",
            "\n",
            "wilde.txt           100%[===================>]   4.59M  --.-KB/s    in 0.08s   \n",
            "\n",
            "2023-01-21 03:32:24 (61.2 MB/s) - ‘wilde.txt’ saved [4818475/4818475]\n",
            "\n"
          ]
        }
      ],
      "source": [
        "!wget https://github.com/DanteNoguez/gpt-wilde/raw/main/data/wilde.txt"
      ]
    },
    {
      "cell_type": "code",
      "source": [
        "with open('wilde.txt', 'r', encoding='utf-8') as f:\n",
        "  text = f.read()"
      ],
      "metadata": {
        "id": "8qnDxSAXxxck"
      },
      "execution_count": null,
      "outputs": []
    },
    {
      "cell_type": "code",
      "source": [
        "len(text)"
      ],
      "metadata": {
        "colab": {
          "base_uri": "https://localhost:8080/"
        },
        "id": "61WTYOojx-us",
        "outputId": "9ade2607-b508-4984-b74c-44ef7ba03de5"
      },
      "execution_count": null,
      "outputs": [
        {
          "output_type": "execute_result",
          "data": {
            "text/plain": [
              "4763434"
            ]
          },
          "metadata": {},
          "execution_count": 3
        }
      ]
    },
    {
      "cell_type": "code",
      "source": [
        "chars = sorted(list(set(text)))\n",
        "vocab_size = len(chars)\n",
        "print(''.join(chars))\n",
        "print(vocab_size)"
      ],
      "metadata": {
        "colab": {
          "base_uri": "https://localhost:8080/"
        },
        "id": "p98jI9x-yABf",
        "outputId": "659700aa-48aa-4c5c-89f1-05ee7bcffab5"
      },
      "execution_count": null,
      "outputs": [
        {
          "output_type": "stream",
          "name": "stdout",
          "text": [
            "\n",
            " !&'()*,-./0123456789:;?ABCDEFGHIJKLMNOPQRSTUVWXYZ[\\]abcdefghijklmnopqrstuvwxyz£ÀÆÈÉàáâäæçèéêëîïóôöùûüÿŒœ–—‘’“”\n",
            "112\n"
          ]
        }
      ]
    },
    {
      "cell_type": "code",
      "source": [
        "#character level tokenizer\n",
        "stoi = {ch:i for i,ch in enumerate(chars)} #lookup table, mapping from characters to integers\n",
        "itos = {i:ch for i,ch in enumerate(chars)}\n",
        "encode = lambda s: [stoi[c] for c in s] #encoder: take a string, output integers\n",
        "decode = lambda l: ''.join([itos[i] for i in l]) #decoder: take integers, output string"
      ],
      "metadata": {
        "id": "PZqPUdk50QiZ"
      },
      "execution_count": null,
      "outputs": []
    },
    {
      "cell_type": "code",
      "source": [
        "encode(\"hello there\"), decode(encode(\"hello there\"))"
      ],
      "metadata": {
        "colab": {
          "base_uri": "https://localhost:8080/"
        },
        "id": "3vTNsHOp8wAE",
        "outputId": "ab3b10dc-fe84-402d-dc5a-213059bfcd4b"
      },
      "execution_count": null,
      "outputs": [
        {
          "output_type": "execute_result",
          "data": {
            "text/plain": [
              "([61, 58, 65, 65, 68, 1, 73, 61, 58, 71, 58], 'hello there')"
            ]
          },
          "metadata": {},
          "execution_count": 6
        }
      ]
    },
    {
      "cell_type": "code",
      "source": [
        "import torch\n",
        "\n",
        "#encoding dataset\n",
        "data = torch.tensor(encode(text), dtype=torch.long)\n",
        "print(data.shape, data.dtype)\n",
        "print(data[:100]) # todo el texto encoded"
      ],
      "metadata": {
        "colab": {
          "base_uri": "https://localhost:8080/"
        },
        "id": "ayUkccgE85xl",
        "outputId": "3ba44c42-14db-4cb0-f027-fc2f33d4498c"
      },
      "execution_count": null,
      "outputs": [
        {
          "output_type": "stream",
          "name": "stdout",
          "text": [
            "torch.Size([4763434]) torch.int64\n",
            "tensor([  0,  43,  56,  58,  67,  58,  10,   1, 107,   1,  25,   1,  42,  74,\n",
            "         72,  72,  62,  54,  67,   1,  33,  67,  67,  10,   0,   0,   0,   0,\n",
            "         36,  54,  71,  60,  58,   1,  57,  68,  68,  71,   1,  68,  69,  58,\n",
            "         67,  62,  67,  60,   1,  68,  67,   1,  72,  67,  68,  76,  78,   1,\n",
            "         65,  54,  67,  57,  72,  56,  54,  69,  58,   1,  54,  73,   1,  55,\n",
            "         54,  56,  64,   1,  68,  59,   1,  72,  73,  54,  60,  58,  10,   0,\n",
            "          0,   0,   0,  40,  58,  73,  58,  71,   1,  43,  54,  55,  68,  74,\n",
            "         71,  68])\n"
          ]
        }
      ]
    },
    {
      "cell_type": "code",
      "source": [
        "#split data into train and validation sets\n",
        "n = int(0.9*len(data)) #90% train, 10%val\n",
        "train_data = data[:n]\n",
        "val_data = data[n:]"
      ],
      "metadata": {
        "id": "JMlkwpvd9ZvL"
      },
      "execution_count": null,
      "outputs": []
    },
    {
      "cell_type": "code",
      "source": [
        "import numpy as np\n",
        "block_size = 8 #or context length\n",
        "train_data[:block_size+1], decode(train_data[:block_size+1].numpy())"
      ],
      "metadata": {
        "colab": {
          "base_uri": "https://localhost:8080/"
        },
        "id": "UFnq3Vxo-3Q5",
        "outputId": "96918321-da99-4c21-adb8-13c7cf15b63d"
      },
      "execution_count": null,
      "outputs": [
        {
          "output_type": "execute_result",
          "data": {
            "text/plain": [
              "(tensor([  0,  43,  56,  58,  67,  58,  10,   1, 107]), '\\nScene. —')"
            ]
          },
          "metadata": {},
          "execution_count": 9
        }
      ]
    },
    {
      "cell_type": "code",
      "source": [
        "#example\n",
        "x = train_data[:block_size] #context\n",
        "y = train_data[1:block_size+1] #prediction\n",
        "for t in range(block_size):\n",
        "  context = x[:t+1]\n",
        "  target = y[t]\n",
        "  print(f\"when input is {context}, the target is {target}\")"
      ],
      "metadata": {
        "colab": {
          "base_uri": "https://localhost:8080/"
        },
        "id": "NoSc756q_Vuz",
        "outputId": "5c0398ad-b046-4865-951d-c29595725eca"
      },
      "execution_count": null,
      "outputs": [
        {
          "output_type": "stream",
          "name": "stdout",
          "text": [
            "when input is tensor([0]), the target is 43\n",
            "when input is tensor([ 0, 43]), the target is 56\n",
            "when input is tensor([ 0, 43, 56]), the target is 58\n",
            "when input is tensor([ 0, 43, 56, 58]), the target is 67\n",
            "when input is tensor([ 0, 43, 56, 58, 67]), the target is 58\n",
            "when input is tensor([ 0, 43, 56, 58, 67, 58]), the target is 10\n",
            "when input is tensor([ 0, 43, 56, 58, 67, 58, 10]), the target is 1\n",
            "when input is tensor([ 0, 43, 56, 58, 67, 58, 10,  1]), the target is 107\n"
          ]
        }
      ]
    },
    {
      "cell_type": "code",
      "source": [
        "batch_size = 4 #how many independent sequences will be processed in parallel\n",
        "block_size = 8 #maximum context length\n",
        "\n",
        "def get_batch(split):\n",
        "  data = train_data if split == 'train' else val_data\n",
        "  ix = torch.randint(len(data) - block_size, (batch_size,)) #get a random ix with batch_size dims\n",
        "  x = torch.stack([data[i:i+block_size] for i in ix]) #concatenate numbers from i to block_size for every random ix obtained\n",
        "  y = torch.stack([data[i+1:i+block_size+1] for i in ix])\n",
        "  return x, y\n",
        "\n",
        "xb, yb = get_batch('train')\n",
        "print(f'inputs: {xb.shape}, {xb}')\n",
        "print(f'targets: {yb.shape}, {yb}')\n",
        "print('---')\n",
        "\n",
        "for b in range(batch_size):\n",
        "  for t in range(block_size):\n",
        "    context = xb[b, :t+1]\n",
        "    target = yb[b,t]\n",
        "    #print(f'when input is {context.tolist()}, the target is: {target}')\n",
        "    #if t == 3:\n",
        "      #break"
      ],
      "metadata": {
        "colab": {
          "base_uri": "https://localhost:8080/"
        },
        "id": "bLjvS-58AxrI",
        "outputId": "f0552dd5-055f-465f-b919-0f3342ae1e38"
      },
      "execution_count": null,
      "outputs": [
        {
          "output_type": "stream",
          "name": "stdout",
          "text": [
            "inputs: torch.Size([4, 8]), tensor([[72,  1, 62, 66, 69, 71, 58, 72],\n",
            "        [74, 71,  1, 72, 54, 64, 58,  8],\n",
            "        [54, 78, 10,  1, 47, 61, 78,  1],\n",
            "        [67,  1, 73, 61, 58,  1, 60, 71]])\n",
            "targets: torch.Size([4, 8]), tensor([[ 1, 62, 66, 69, 71, 58, 72, 72],\n",
            "        [71,  1, 72, 54, 64, 58,  8,  0],\n",
            "        [78, 10,  1, 47, 61, 78,  1, 57],\n",
            "        [ 1, 73, 61, 58,  1, 60, 71, 54]])\n",
            "---\n"
          ]
        }
      ]
    },
    {
      "cell_type": "markdown",
      "source": [
        "# Bigram"
      ],
      "metadata": {
        "id": "hqKnu6xsq_ei"
      }
    },
    {
      "cell_type": "code",
      "source": [
        "#ahora procesamos todo en una red neuronal\n",
        "import torch.nn as nn\n",
        "from torch.nn import functional as F\n",
        "\n",
        "class BigramLanguageModel(nn.Module):\n",
        "  def __init__(self, vocab_size):\n",
        "    super().__init__()\n",
        "    # each token reads off the logits for the next token from a lookup table\n",
        "    self.token_embedding_table = nn.Embedding(vocab_size, vocab_size)\n",
        "\n",
        "  def forward(self, idx, targets=None):\n",
        "    #idx and targets are both (B,T) tensor of integers\n",
        "    logits = self.token_embedding_table(idx) # (B,T,C) batch, time, channels = 4, 8 (block_size), 112 (vocab_size)\n",
        "\n",
        "    if targets == None:\n",
        "      loss = None\n",
        "    else:\n",
        "      B, T, C = logits.shape\n",
        "      logits = logits.view(B*T, C) #cambiamos el orden por cómo funciona F.cross_entropy\n",
        "      targets = targets.view(B*T)\n",
        "      loss = F.cross_entropy(logits, targets) # nll\n",
        "    return logits, loss\n",
        "\n",
        "  def generate(self, idx, max_new_tokens):\n",
        "    #idx is (B,T) array of indices: xb\n",
        "    for _ in range(max_new_tokens):\n",
        "      #get the predictions\n",
        "      logits, loss = self(idx)\n",
        "      #focus only on the last time step\n",
        "      logits = logits[:, -1, :] #selects the -1 (last) element of the T dimension because that's the next character, becomes (B,C)\n",
        "      #softmax\n",
        "      probs = F.softmax(logits, dim=-1) # (B,C)\n",
        "      #sample from distribution\n",
        "      idx_next = torch.multinomial(probs, num_samples=1) # (B,1)\n",
        "      #append sampled index to running sequence\n",
        "      idx = torch.cat((idx, idx_next), dim=1) # (B,T+1)\n",
        "    return idx\n",
        "\n",
        "m = BigramLanguageModel(vocab_size)\n",
        "logits, loss = m(xb, yb)\n",
        "print(logits.shape, loss)"
      ],
      "metadata": {
        "colab": {
          "base_uri": "https://localhost:8080/"
        },
        "id": "zW2jqINOsqjD",
        "outputId": "f18e06f9-7ef4-4a99-8bd0-efdd6060cd69"
      },
      "execution_count": null,
      "outputs": [
        {
          "output_type": "stream",
          "name": "stdout",
          "text": [
            "torch.Size([32, 112]) tensor(5.2095, grad_fn=<NllLossBackward0>)\n"
          ]
        }
      ]
    },
    {
      "cell_type": "code",
      "source": [
        "print(decode(m.generate(idx = torch.zeros((1,1), dtype=torch.long), max_new_tokens=100)[0].tolist()))"
      ],
      "metadata": {
        "colab": {
          "base_uri": "https://localhost:8080/"
        },
        "id": "Mvd3dq1C2Gbf",
        "outputId": "8b6a3f71-32da-4f32-aec3-a348ef0d049c"
      },
      "execution_count": null,
      "outputs": [
        {
          "output_type": "stream",
          "name": "stdout",
          "text": [
            "\n",
            "èoQ/gApœAqJç'ÈÈçxáF4uAyé*7!kâ*75ïèTäkfbö’xSrë;]Æywm0RÉx!N!ecè[œóÀBhîSûYéqé\\Epn’lœM£!d- a'ûn4I)P0fÈ9E\n"
          ]
        }
      ]
    },
    {
      "cell_type": "code",
      "source": [
        "optimizer = torch.optim.AdamW(m.parameters(), lr=1e-3)"
      ],
      "metadata": {
        "id": "eazqg_iGJa25"
      },
      "execution_count": null,
      "outputs": []
    },
    {
      "cell_type": "code",
      "source": [
        "batch_size = 32\n",
        "for steps in range(10000):\n",
        "  #sample a batch\n",
        "  xb, yb = get_batch('train')\n",
        "\n",
        "  #evaluate the loss\n",
        "  logits, loss = m(xb, yb)\n",
        "  optimizer.zero_grad(set_to_none=True)\n",
        "  loss.backward()\n",
        "  optimizer.step()\n",
        "\n",
        "\n",
        "print(loss.item())"
      ],
      "metadata": {
        "colab": {
          "base_uri": "https://localhost:8080/"
        },
        "id": "IKkXegTnN3mZ",
        "outputId": "15fa1a7e-932d-42c7-beda-d793ad976a0a"
      },
      "execution_count": null,
      "outputs": [
        {
          "output_type": "stream",
          "name": "stdout",
          "text": [
            "2.411374568939209\n"
          ]
        }
      ]
    },
    {
      "cell_type": "code",
      "source": [
        "print(decode(m.generate(idx = torch.zeros((1,1), dtype=torch.long), max_new_tokens=200)[0].tolist()))"
      ],
      "metadata": {
        "colab": {
          "base_uri": "https://localhost:8080/"
        },
        "id": "FdHjeRBrOQMN",
        "outputId": "b4ef1dae-11fd-40e9-89b4-d2f0c8ff2a69"
      },
      "execution_count": null,
      "outputs": [
        {
          "output_type": "stream",
          "name": "stdout",
          "text": [
            "\n",
            "\n",
            "\n",
            "\n",
            "\n",
            "Wa les, l thelvearel s afone rexqSpes isitachave Jan, be Ithat nddoot spr!” g, is inide thed sosorthetrstheavemind tolas quthals omeareks, l ckntwongacoyol ay s ricodast t owinin, Bubonkeencouting\n"
          ]
        }
      ]
    },
    {
      "cell_type": "markdown",
      "source": [
        "# Attention\n",
        "## masking"
      ],
      "metadata": {
        "id": "Md64Ypx0aGJ4"
      }
    },
    {
      "cell_type": "code",
      "source": [
        "B, T, C = 4, 8, 2 # batch, time, channels\n",
        "x = torch.randn(B, T, C)\n",
        "x.shape, x"
      ],
      "metadata": {
        "colab": {
          "base_uri": "https://localhost:8080/"
        },
        "id": "GLPQukebZmqP",
        "outputId": "289a4f91-5ba5-4055-d702-23d50c652291"
      },
      "execution_count": null,
      "outputs": [
        {
          "output_type": "execute_result",
          "data": {
            "text/plain": [
              "(torch.Size([4, 8, 2]), tensor([[[ 1.0694,  0.7632],\n",
              "          [-0.2685, -0.8615],\n",
              "          [-0.0648,  1.3087],\n",
              "          [-2.0130,  1.4452],\n",
              "          [ 1.3777, -0.9225],\n",
              "          [-0.2851, -0.6933],\n",
              "          [ 0.8647, -0.4860],\n",
              "          [-1.2882, -0.3192]],\n",
              " \n",
              "         [[-2.7493, -0.8327],\n",
              "          [ 1.5506, -0.8510],\n",
              "          [-0.5497,  0.1812],\n",
              "          [ 1.6403, -0.8118],\n",
              "          [ 0.0643,  1.0898],\n",
              "          [ 1.7347,  0.3218],\n",
              "          [ 0.4110, -2.6798],\n",
              "          [ 0.3078, -0.9501]],\n",
              " \n",
              "         [[ 1.1694,  0.8299],\n",
              "          [-2.4168, -0.7675],\n",
              "          [-0.5913, -0.0316],\n",
              "          [ 0.5090,  0.5215],\n",
              "          [ 0.6991,  0.2643],\n",
              "          [ 2.5257, -0.0798],\n",
              "          [ 0.7582, -0.3698],\n",
              "          [ 1.8004, -1.9457]],\n",
              " \n",
              "         [[ 0.2079, -0.0963],\n",
              "          [-1.2654, -1.4188],\n",
              "          [ 0.3596,  1.0491],\n",
              "          [ 0.4066,  1.0815],\n",
              "          [ 0.5730,  0.9116],\n",
              "          [ 0.1121, -0.4333],\n",
              "          [ 0.3308, -0.2331],\n",
              "          [-0.7198,  1.0286]]]))"
            ]
          },
          "metadata": {},
          "execution_count": 128
        }
      ]
    },
    {
      "cell_type": "code",
      "source": [
        "# we want x[b,t] = mean_{i <= t} x[b,i]\n",
        "xbow = torch.zeros((B,T,C)) #bag of words, average\n",
        "for b in range(B): # iterate over batch\n",
        "  for t in range(T): # iterate over \"time\"\n",
        "    xprev = x[b, :t+1] # (t, C)\n",
        "    xbow[b,t] = torch.mean(xprev, 0) #average dimension 0: t\n",
        "\n",
        "x[0]"
      ],
      "metadata": {
        "colab": {
          "base_uri": "https://localhost:8080/"
        },
        "id": "fHd7TzU3Zmn6",
        "outputId": "6e8b8972-926a-48df-c766-e1619292824a"
      },
      "execution_count": null,
      "outputs": [
        {
          "output_type": "execute_result",
          "data": {
            "text/plain": [
              "tensor([[ 1.0694,  0.7632],\n",
              "        [-0.2685, -0.8615],\n",
              "        [-0.0648,  1.3087],\n",
              "        [-2.0130,  1.4452],\n",
              "        [ 1.3777, -0.9225],\n",
              "        [-0.2851, -0.6933],\n",
              "        [ 0.8647, -0.4860],\n",
              "        [-1.2882, -0.3192]])"
            ]
          },
          "metadata": {},
          "execution_count": 129
        }
      ]
    },
    {
      "cell_type": "code",
      "source": [
        "xbow[0] # every row is the average of itself and its preceding rows"
      ],
      "metadata": {
        "colab": {
          "base_uri": "https://localhost:8080/"
        },
        "id": "AB6P3Q7GZmmT",
        "outputId": "08d49505-27d7-4d5f-96a6-bdddca8027ab"
      },
      "execution_count": null,
      "outputs": [
        {
          "output_type": "execute_result",
          "data": {
            "text/plain": [
              "tensor([[ 1.0694,  0.7632],\n",
              "        [ 0.4004, -0.0492],\n",
              "        [ 0.2454,  0.4035],\n",
              "        [-0.3192,  0.6639],\n",
              "        [ 0.0202,  0.3466],\n",
              "        [-0.0307,  0.1733],\n",
              "        [ 0.0972,  0.0791],\n",
              "        [-0.0760,  0.0293]])"
            ]
          },
          "metadata": {},
          "execution_count": 130
        }
      ]
    },
    {
      "cell_type": "code",
      "source": [
        "a = torch.ones(3, 3)\n",
        "b = torch.randint(0, 10, (3,2)).float()\n",
        "c = a @ b\n",
        "print(f'a = {a}')\n",
        "print('---')\n",
        "print(f'b = {b}')\n",
        "print('---')\n",
        "print(f'c = {c}')\n",
        "print('---')"
      ],
      "metadata": {
        "colab": {
          "base_uri": "https://localhost:8080/"
        },
        "id": "NZqA9ubCcqeo",
        "outputId": "ccf964dc-c899-4500-a014-506f24b13c1e"
      },
      "execution_count": null,
      "outputs": [
        {
          "output_type": "stream",
          "name": "stdout",
          "text": [
            "a = tensor([[1., 1., 1.],\n",
            "        [1., 1., 1.],\n",
            "        [1., 1., 1.]])\n",
            "---\n",
            "b = tensor([[4., 0.],\n",
            "        [7., 2.],\n",
            "        [9., 8.]])\n",
            "---\n",
            "c = tensor([[20., 10.],\n",
            "        [20., 10.],\n",
            "        [20., 10.]])\n",
            "---\n"
          ]
        }
      ]
    },
    {
      "cell_type": "code",
      "source": [
        "a = torch.tril(torch.ones(3, 3))\n",
        "a = a / torch.sum(a, 1, keepdim=True)\n",
        "b = torch.randint(0, 10, (3,2)).float()\n",
        "c = a @ b\n",
        "print(f'a = {a}')\n",
        "print('---')\n",
        "print(f'b = {b}')\n",
        "print('---')\n",
        "print(f'c = {c}')\n",
        "print('---')"
      ],
      "metadata": {
        "colab": {
          "base_uri": "https://localhost:8080/"
        },
        "id": "4iLtxh_chfjH",
        "outputId": "d2f797cd-fa31-4de9-dfea-f2c86fe5ae27"
      },
      "execution_count": null,
      "outputs": [
        {
          "output_type": "stream",
          "name": "stdout",
          "text": [
            "a = tensor([[1.0000, 0.0000, 0.0000],\n",
            "        [0.5000, 0.5000, 0.0000],\n",
            "        [0.3333, 0.3333, 0.3333]])\n",
            "---\n",
            "b = tensor([[5., 7.],\n",
            "        [7., 2.],\n",
            "        [4., 3.]])\n",
            "---\n",
            "c = tensor([[5.0000, 7.0000],\n",
            "        [6.0000, 4.5000],\n",
            "        [5.3333, 4.0000]])\n",
            "---\n"
          ]
        }
      ]
    },
    {
      "cell_type": "code",
      "source": [
        "wei = torch.tril(torch.ones(T, T))\n",
        "wei = wei / wei.sum(1, keepdim=True)\n",
        "wei"
      ],
      "metadata": {
        "colab": {
          "base_uri": "https://localhost:8080/"
        },
        "id": "3oyn22lPhykM",
        "outputId": "c10ba02b-9215-4aa2-90f9-d2d04d697ae0"
      },
      "execution_count": null,
      "outputs": [
        {
          "output_type": "execute_result",
          "data": {
            "text/plain": [
              "tensor([[1.0000, 0.0000, 0.0000, 0.0000, 0.0000, 0.0000, 0.0000, 0.0000],\n",
              "        [0.5000, 0.5000, 0.0000, 0.0000, 0.0000, 0.0000, 0.0000, 0.0000],\n",
              "        [0.3333, 0.3333, 0.3333, 0.0000, 0.0000, 0.0000, 0.0000, 0.0000],\n",
              "        [0.2500, 0.2500, 0.2500, 0.2500, 0.0000, 0.0000, 0.0000, 0.0000],\n",
              "        [0.2000, 0.2000, 0.2000, 0.2000, 0.2000, 0.0000, 0.0000, 0.0000],\n",
              "        [0.1667, 0.1667, 0.1667, 0.1667, 0.1667, 0.1667, 0.0000, 0.0000],\n",
              "        [0.1429, 0.1429, 0.1429, 0.1429, 0.1429, 0.1429, 0.1429, 0.0000],\n",
              "        [0.1250, 0.1250, 0.1250, 0.1250, 0.1250, 0.1250, 0.1250, 0.1250]])"
            ]
          },
          "metadata": {},
          "execution_count": 133
        }
      ]
    },
    {
      "cell_type": "code",
      "source": [
        "xbow2 = wei @ x \n",
        "torch.allclose(xbow, xbow2)"
      ],
      "metadata": {
        "colab": {
          "base_uri": "https://localhost:8080/"
        },
        "id": "FWB-oRYGhyiE",
        "outputId": "f7aba2a2-065e-488c-8b00-314709c25611"
      },
      "execution_count": null,
      "outputs": [
        {
          "output_type": "execute_result",
          "data": {
            "text/plain": [
              "True"
            ]
          },
          "metadata": {},
          "execution_count": 134
        }
      ]
    },
    {
      "cell_type": "code",
      "source": [
        "#version 3 \n",
        "tril = torch.tril(torch.ones(T, T)) # triangular matrix\n",
        "wei = torch.zeros((T,T)) # all zeros\n",
        "tril, wei"
      ],
      "metadata": {
        "colab": {
          "base_uri": "https://localhost:8080/"
        },
        "id": "SnCIe8bshyfr",
        "outputId": "60320c1f-e3db-4ae4-89d5-d399cbec84ad"
      },
      "execution_count": null,
      "outputs": [
        {
          "output_type": "execute_result",
          "data": {
            "text/plain": [
              "(tensor([[1., 0., 0., 0., 0., 0., 0., 0.],\n",
              "         [1., 1., 0., 0., 0., 0., 0., 0.],\n",
              "         [1., 1., 1., 0., 0., 0., 0., 0.],\n",
              "         [1., 1., 1., 1., 0., 0., 0., 0.],\n",
              "         [1., 1., 1., 1., 1., 0., 0., 0.],\n",
              "         [1., 1., 1., 1., 1., 1., 0., 0.],\n",
              "         [1., 1., 1., 1., 1., 1., 1., 0.],\n",
              "         [1., 1., 1., 1., 1., 1., 1., 1.]]),\n",
              " tensor([[0., 0., 0., 0., 0., 0., 0., 0.],\n",
              "         [0., 0., 0., 0., 0., 0., 0., 0.],\n",
              "         [0., 0., 0., 0., 0., 0., 0., 0.],\n",
              "         [0., 0., 0., 0., 0., 0., 0., 0.],\n",
              "         [0., 0., 0., 0., 0., 0., 0., 0.],\n",
              "         [0., 0., 0., 0., 0., 0., 0., 0.],\n",
              "         [0., 0., 0., 0., 0., 0., 0., 0.],\n",
              "         [0., 0., 0., 0., 0., 0., 0., 0.]]))"
            ]
          },
          "metadata": {},
          "execution_count": 135
        }
      ]
    },
    {
      "cell_type": "markdown",
      "source": [
        "donde `tril` sea 0, convertir eso en `-inf`. eso hace que los tokens del futuro no puedan comunicarse con los del pasado."
      ],
      "metadata": {
        "id": "jxMbTX98kiVm"
      }
    },
    {
      "cell_type": "code",
      "source": [
        "wei = wei.masked_fill(tril == 0, float('-inf'))\n",
        "wei"
      ],
      "metadata": {
        "colab": {
          "base_uri": "https://localhost:8080/"
        },
        "id": "2QAGZbH4kO9S",
        "outputId": "e9be7dba-9d97-4507-cd4a-9a7578b962ea"
      },
      "execution_count": null,
      "outputs": [
        {
          "output_type": "execute_result",
          "data": {
            "text/plain": [
              "tensor([[0., -inf, -inf, -inf, -inf, -inf, -inf, -inf],\n",
              "        [0., 0., -inf, -inf, -inf, -inf, -inf, -inf],\n",
              "        [0., 0., 0., -inf, -inf, -inf, -inf, -inf],\n",
              "        [0., 0., 0., 0., -inf, -inf, -inf, -inf],\n",
              "        [0., 0., 0., 0., 0., -inf, -inf, -inf],\n",
              "        [0., 0., 0., 0., 0., 0., -inf, -inf],\n",
              "        [0., 0., 0., 0., 0., 0., 0., -inf],\n",
              "        [0., 0., 0., 0., 0., 0., 0., 0.]])"
            ]
          },
          "metadata": {},
          "execution_count": 136
        }
      ]
    },
    {
      "cell_type": "code",
      "source": [
        "wei = F.softmax(wei, dim=-1) #softmax sobre cada fila, normalizando wei\n",
        "wei"
      ],
      "metadata": {
        "colab": {
          "base_uri": "https://localhost:8080/"
        },
        "id": "DohhJoZbkW_f",
        "outputId": "c27b98d8-4e7a-47b4-fd8b-5e947750ec4a"
      },
      "execution_count": null,
      "outputs": [
        {
          "output_type": "execute_result",
          "data": {
            "text/plain": [
              "tensor([[1.0000, 0.0000, 0.0000, 0.0000, 0.0000, 0.0000, 0.0000, 0.0000],\n",
              "        [0.5000, 0.5000, 0.0000, 0.0000, 0.0000, 0.0000, 0.0000, 0.0000],\n",
              "        [0.3333, 0.3333, 0.3333, 0.0000, 0.0000, 0.0000, 0.0000, 0.0000],\n",
              "        [0.2500, 0.2500, 0.2500, 0.2500, 0.0000, 0.0000, 0.0000, 0.0000],\n",
              "        [0.2000, 0.2000, 0.2000, 0.2000, 0.2000, 0.0000, 0.0000, 0.0000],\n",
              "        [0.1667, 0.1667, 0.1667, 0.1667, 0.1667, 0.1667, 0.0000, 0.0000],\n",
              "        [0.1429, 0.1429, 0.1429, 0.1429, 0.1429, 0.1429, 0.1429, 0.0000],\n",
              "        [0.1250, 0.1250, 0.1250, 0.1250, 0.1250, 0.1250, 0.1250, 0.1250]])"
            ]
          },
          "metadata": {},
          "execution_count": 137
        }
      ]
    },
    {
      "cell_type": "code",
      "source": [
        "xbow3 = wei @ x\n",
        "torch.allclose(xbow, xbow3)"
      ],
      "metadata": {
        "colab": {
          "base_uri": "https://localhost:8080/"
        },
        "id": "fTy759LekZpn",
        "outputId": "b764fda6-cd71-4531-dd2e-bea344ae59e3"
      },
      "execution_count": null,
      "outputs": [
        {
          "output_type": "execute_result",
          "data": {
            "text/plain": [
              "True"
            ]
          },
          "metadata": {},
          "execution_count": 138
        }
      ]
    },
    {
      "cell_type": "markdown",
      "source": [
        "## self-attention"
      ],
      "metadata": {
        "id": "IQg8kj9qrE2h"
      }
    },
    {
      "cell_type": "code",
      "source": [
        "B, T, C = 4, 8, 32 # batch, time, channels\n",
        "x = torch.randn(B, T, C)\n",
        "\n",
        "# a single Head performing self-attention\n",
        "head_size = 16\n",
        "key = nn.Linear(C, head_size, bias=False)\n",
        "query = nn.Linear(C, head_size, bias=False)\n",
        "value = nn.Linear(C, head_size, bias=False)\n",
        "k = key(x) # (B, T, 16)\n",
        "q = query(x) # (B, T, 16)\n",
        "wei = q @ k.transpose(-2, -1) # (B, T, 16) @ (B, 16, T) ---> (B, T, T)\n",
        "\n",
        "tril = torch.tril(torch.ones(T,T))\n",
        "#wei = torch.zeros((T,T))\n",
        "wei = wei.masked_fill_(tril == 0, float('-inf'))\n",
        "wei = F.softmax(wei, dim=-1)\n",
        "\n",
        "v = value(x)\n",
        "#out = wei @ x\n",
        "out = wei @ v\n",
        "\n",
        "out.shape"
      ],
      "metadata": {
        "colab": {
          "base_uri": "https://localhost:8080/"
        },
        "id": "sY-1t6NKrGQa",
        "outputId": "04d9d00f-7a3b-4dd4-f0a5-c5292715bfad"
      },
      "execution_count": null,
      "outputs": [
        {
          "output_type": "execute_result",
          "data": {
            "text/plain": [
              "torch.Size([4, 8, 16])"
            ]
          },
          "metadata": {},
          "execution_count": 143
        }
      ]
    },
    {
      "cell_type": "code",
      "source": [
        "wei"
      ],
      "metadata": {
        "colab": {
          "base_uri": "https://localhost:8080/"
        },
        "id": "tBjEVYC9rGOR",
        "outputId": "8590015b-a089-42e3-dd17-7c4358bd022b"
      },
      "execution_count": null,
      "outputs": [
        {
          "output_type": "execute_result",
          "data": {
            "text/plain": [
              "tensor([[[1.0000, 0.0000, 0.0000, 0.0000, 0.0000, 0.0000, 0.0000, 0.0000],\n",
              "         [0.6574, 0.3426, 0.0000, 0.0000, 0.0000, 0.0000, 0.0000, 0.0000],\n",
              "         [0.0284, 0.8113, 0.1602, 0.0000, 0.0000, 0.0000, 0.0000, 0.0000],\n",
              "         [0.1182, 0.5935, 0.2381, 0.0501, 0.0000, 0.0000, 0.0000, 0.0000],\n",
              "         [0.2200, 0.3199, 0.0587, 0.2337, 0.1677, 0.0000, 0.0000, 0.0000],\n",
              "         [0.2118, 0.0444, 0.0539, 0.3532, 0.0216, 0.3151, 0.0000, 0.0000],\n",
              "         [0.8061, 0.0073, 0.0463, 0.0455, 0.0840, 0.0077, 0.0030, 0.0000],\n",
              "         [0.5191, 0.0317, 0.0329, 0.1550, 0.0481, 0.0541, 0.0514, 0.1076]],\n",
              "\n",
              "        [[1.0000, 0.0000, 0.0000, 0.0000, 0.0000, 0.0000, 0.0000, 0.0000],\n",
              "         [0.1941, 0.8059, 0.0000, 0.0000, 0.0000, 0.0000, 0.0000, 0.0000],\n",
              "         [0.0323, 0.5310, 0.4367, 0.0000, 0.0000, 0.0000, 0.0000, 0.0000],\n",
              "         [0.0982, 0.3470, 0.5172, 0.0376, 0.0000, 0.0000, 0.0000, 0.0000],\n",
              "         [0.0212, 0.0745, 0.0153, 0.8860, 0.0029, 0.0000, 0.0000, 0.0000],\n",
              "         [0.3300, 0.0121, 0.0158, 0.0339, 0.0174, 0.5909, 0.0000, 0.0000],\n",
              "         [0.0313, 0.2469, 0.0602, 0.0093, 0.4421, 0.1293, 0.0809, 0.0000],\n",
              "         [0.1138, 0.1308, 0.1237, 0.3863, 0.0786, 0.0349, 0.0454, 0.0863]],\n",
              "\n",
              "        [[1.0000, 0.0000, 0.0000, 0.0000, 0.0000, 0.0000, 0.0000, 0.0000],\n",
              "         [0.1402, 0.8598, 0.0000, 0.0000, 0.0000, 0.0000, 0.0000, 0.0000],\n",
              "         [0.1560, 0.0971, 0.7469, 0.0000, 0.0000, 0.0000, 0.0000, 0.0000],\n",
              "         [0.4033, 0.4281, 0.0789, 0.0896, 0.0000, 0.0000, 0.0000, 0.0000],\n",
              "         [0.0156, 0.2485, 0.2589, 0.3486, 0.1285, 0.0000, 0.0000, 0.0000],\n",
              "         [0.0346, 0.3440, 0.2855, 0.2272, 0.0230, 0.0858, 0.0000, 0.0000],\n",
              "         [0.6478, 0.0574, 0.0301, 0.0791, 0.0747, 0.1008, 0.0100, 0.0000],\n",
              "         [0.0556, 0.5686, 0.1568, 0.0123, 0.0083, 0.0199, 0.0305, 0.1480]],\n",
              "\n",
              "        [[1.0000, 0.0000, 0.0000, 0.0000, 0.0000, 0.0000, 0.0000, 0.0000],\n",
              "         [0.0275, 0.9725, 0.0000, 0.0000, 0.0000, 0.0000, 0.0000, 0.0000],\n",
              "         [0.3180, 0.4029, 0.2791, 0.0000, 0.0000, 0.0000, 0.0000, 0.0000],\n",
              "         [0.3242, 0.2946, 0.2403, 0.1409, 0.0000, 0.0000, 0.0000, 0.0000],\n",
              "         [0.0307, 0.5664, 0.1943, 0.0571, 0.1516, 0.0000, 0.0000, 0.0000],\n",
              "         [0.0354, 0.1471, 0.5488, 0.0217, 0.2128, 0.0343, 0.0000, 0.0000],\n",
              "         [0.2086, 0.1562, 0.0292, 0.0862, 0.0223, 0.4780, 0.0194, 0.0000],\n",
              "         [0.0324, 0.0724, 0.0596, 0.0210, 0.2051, 0.1701, 0.3925, 0.0468]]],\n",
              "       grad_fn=<SoftmaxBackward0>)"
            ]
          },
          "metadata": {},
          "execution_count": 144
        }
      ]
    },
    {
      "cell_type": "markdown",
      "source": [
        "#Scripts"
      ],
      "metadata": {
        "id": "nxbHUFMxrGxQ"
      }
    },
    {
      "cell_type": "code",
      "source": [
        "#%%writefile bigram.py\n",
        "\n",
        "import torch\n",
        "import torch.nn as nn\n",
        "from torch.nn import functional as F\n",
        "\n",
        "# hyperparameters\n",
        "batch_size = 32 # how many independent sequences will we process in parallel?\n",
        "block_size = 8 # what is the maximum context length for predictions?\n",
        "max_iters = 3000\n",
        "eval_interval = 300\n",
        "learning_rate = 1e-2\n",
        "device = 'cuda' if torch.cuda.is_available() else 'cpu'\n",
        "eval_iters = 200\n",
        "# ------------\n",
        "\n",
        "# dataset\n",
        "# !wget https://github.com/DanteNoguez/gpt-wilde/raw/main/wilde.txt\n",
        "with open('wilde.txt', 'r', encoding='utf-8') as f:\n",
        "    text = f.read()\n",
        "\n",
        "# here are all the unique characters that occur in this text\n",
        "chars = sorted(list(set(text)))\n",
        "vocab_size = len(chars)\n",
        "# create a mapping from characters to integers\n",
        "stoi = { ch:i for i,ch in enumerate(chars) }\n",
        "itos = { i:ch for i,ch in enumerate(chars) }\n",
        "encode = lambda s: [stoi[c] for c in s] # encoder: take a string, output a list of integers\n",
        "decode = lambda l: ''.join([itos[i] for i in l]) # decoder: take a list of integers, output a string\n",
        "\n",
        "# Train and test splits\n",
        "data = torch.tensor(encode(text), dtype=torch.long)\n",
        "n = int(0.9*len(data)) # first 90% will be train, rest val\n",
        "train_data = data[:n]\n",
        "val_data = data[n:]\n",
        "\n",
        "# data loading\n",
        "def get_batch(split):\n",
        "    # generate a small batch of data of inputs x and targets y\n",
        "    data = train_data if split == 'train' else val_data\n",
        "    ix = torch.randint(len(data) - block_size, (batch_size,))\n",
        "    x = torch.stack([data[i:i+block_size] for i in ix])\n",
        "    y = torch.stack([data[i+1:i+block_size+1] for i in ix])\n",
        "    x, y = x.to(device), y.to(device)\n",
        "    return x, y\n",
        "\n",
        "@torch.no_grad()\n",
        "def estimate_loss():\n",
        "    out = {}\n",
        "    model.eval()\n",
        "    for split in ['train', 'val']:\n",
        "        losses = torch.zeros(eval_iters)\n",
        "        for k in range(eval_iters):\n",
        "            X, Y = get_batch(split)\n",
        "            logits, loss = model(X, Y)\n",
        "            losses[k] = loss.item()\n",
        "        out[split] = losses.mean()\n",
        "    model.train()\n",
        "    return out\n",
        "\n",
        "# super simple bigram model\n",
        "class BigramLanguageModel(nn.Module):\n",
        "\n",
        "    def __init__(self, vocab_size):\n",
        "        super().__init__()\n",
        "        # each token directly reads off the logits for the next token from a lookup table\n",
        "        self.token_embedding_table = nn.Embedding(vocab_size, vocab_size)\n",
        "\n",
        "    def forward(self, idx, targets=None):\n",
        "\n",
        "        # idx and targets are both (B,T) tensor of integers\n",
        "        logits = self.token_embedding_table(idx) # (B,T,C)\n",
        "\n",
        "        if targets is None:\n",
        "            loss = None\n",
        "        else:\n",
        "            B, T, C = logits.shape\n",
        "            logits = logits.view(B*T, C)\n",
        "            targets = targets.view(B*T)\n",
        "            loss = F.cross_entropy(logits, targets)\n",
        "\n",
        "        return logits, loss\n",
        "\n",
        "    def generate(self, idx, max_new_tokens):\n",
        "        # idx is (B, T) array of indices in the current context\n",
        "        for _ in range(max_new_tokens):\n",
        "            # get the predictions\n",
        "            logits, loss = self(idx)\n",
        "            # focus only on the last time step\n",
        "            logits = logits[:, -1, :] # becomes (B, C)\n",
        "            # apply softmax to get probabilities\n",
        "            probs = F.softmax(logits, dim=-1) # (B, C)\n",
        "            # sample from the distribution\n",
        "            idx_next = torch.multinomial(probs, num_samples=1) # (B, 1)\n",
        "            # append sampled index to the running sequence\n",
        "            idx = torch.cat((idx, idx_next), dim=1) # (B, T+1)\n",
        "        return idx\n",
        "\n",
        "model = BigramLanguageModel(vocab_size)\n",
        "m = model.to(device)\n",
        "\n",
        "# create a PyTorch optimizer\n",
        "optimizer = torch.optim.AdamW(model.parameters(), lr=learning_rate)\n",
        "\n",
        "for iter in range(max_iters):\n",
        "\n",
        "    # every once in a while evaluate the loss on train and val sets\n",
        "    if iter % eval_interval == 0:\n",
        "        losses = estimate_loss()\n",
        "        print(f\"step {iter}: train loss {losses['train']:.4f}, val loss {losses['val']:.4f}\")\n",
        "\n",
        "    # sample a batch of data\n",
        "    xb, yb = get_batch('train')\n",
        "\n",
        "    # evaluate the loss\n",
        "    logits, loss = model(xb, yb)\n",
        "    optimizer.zero_grad(set_to_none=True)\n",
        "    loss.backward()\n",
        "    optimizer.step()\n",
        "\n",
        "# generate from the model\n",
        "context = torch.zeros((1, 1), dtype=torch.long, device=device)\n",
        "print(decode(m.generate(context, max_new_tokens=500)[0].tolist()))"
      ],
      "metadata": {
        "colab": {
          "base_uri": "https://localhost:8080/"
        },
        "id": "9GAdS6PzWnhF",
        "outputId": "34fe9292-3152-40d7-fde0-0b659fc1eebe"
      },
      "execution_count": null,
      "outputs": [
        {
          "output_type": "stream",
          "name": "stdout",
          "text": [
            "step 0: train loss 5.2350, val loss 5.2418\n",
            "step 300: train loss 2.9223, val loss 2.9089\n",
            "step 600: train loss 2.5557, val loss 2.5607\n",
            "step 900: train loss 2.5037, val loss 2.4935\n",
            "step 1200: train loss 2.4759, val loss 2.4697\n",
            "step 1500: train loss 2.4697, val loss 2.4662\n",
            "step 1800: train loss 2.4473, val loss 2.4514\n",
            "step 2100: train loss 2.4643, val loss 2.4447\n",
            "step 2400: train loss 2.4507, val loss 2.4519\n",
            "step 2700: train loss 2.4533, val loss 2.4446\n",
            "\n",
            "\n",
            "“Wonomis te I ghe d oyedeonde t.” ovehed A atou Marinipined m mortsecove testh. m? t My hty maythichenaulinishe hee’thy g ol re rine, ngin ARea Anodlpé\n",
            "He ind har ar thiven’\n",
            "Mrugi, me fefreg. iche cce”\n",
            "Worely l t abo s andeeed aron hir ondory hy me t ve d, hel acowant t ason, And Indebloy. by, o hen. a I bllid ary, sis7&î7westhass. ventwiore. s He f t werthol s l the mee o, I s t frkily, ps, he lomyo f le—\n",
            "\n",
            "\n",
            "\n",
            "\n",
            "VI ove buthes. us, uldolarpt theld ceut Thel; re Wetharelpáedeard. os.\n",
            "\n",
            "LD the r t: a\n"
          ]
        }
      ]
    },
    {
      "cell_type": "code",
      "source": [
        "!nvidia-smi"
      ],
      "metadata": {
        "colab": {
          "base_uri": "https://localhost:8080/"
        },
        "id": "MHjxnbfBP8Ca",
        "outputId": "1554cb91-e45c-4ed7-cee9-221339739476"
      },
      "execution_count": 23,
      "outputs": [
        {
          "output_type": "stream",
          "name": "stdout",
          "text": [
            "Sat Jan 21 03:17:02 2023       \n",
            "+-----------------------------------------------------------------------------+\n",
            "| NVIDIA-SMI 460.32.03    Driver Version: 460.32.03    CUDA Version: 11.2     |\n",
            "|-------------------------------+----------------------+----------------------+\n",
            "| GPU  Name        Persistence-M| Bus-Id        Disp.A | Volatile Uncorr. ECC |\n",
            "| Fan  Temp  Perf  Pwr:Usage/Cap|         Memory-Usage | GPU-Util  Compute M. |\n",
            "|                               |                      |               MIG M. |\n",
            "|===============================+======================+======================|\n",
            "|   0  A100-SXM4-40GB      Off  | 00000000:00:04.0 Off |                    0 |\n",
            "| N/A   29C    P0    50W / 400W |   8368MiB / 40536MiB |      0%      Default |\n",
            "|                               |                      |             Disabled |\n",
            "+-------------------------------+----------------------+----------------------+\n",
            "                                                                               \n",
            "+-----------------------------------------------------------------------------+\n",
            "| Processes:                                                                  |\n",
            "|  GPU   GI   CI        PID   Type   Process name                  GPU Memory |\n",
            "|        ID   ID                                                   Usage      |\n",
            "|=============================================================================|\n",
            "+-----------------------------------------------------------------------------+\n"
          ]
        }
      ]
    },
    {
      "cell_type": "code",
      "source": [
        "# %%writefile gpt.py\n",
        "\n",
        "import torch\n",
        "import torch.nn as nn\n",
        "from torch.nn import functional as F\n",
        "\n",
        "# hyperparameters\n",
        "batch_size = 64 # how many independent sequences will we process in parallel?\n",
        "block_size = 256 # what is the maximum context length for predictions?\n",
        "max_iters = 5000\n",
        "eval_interval = 500\n",
        "learning_rate = 3e-4\n",
        "device = 'cuda' if torch.cuda.is_available() else 'mps'\n",
        "eval_iters = 200\n",
        "n_embd = 512 # number of embeddings\n",
        "n_head = 8\n",
        "n_layer = 8\n",
        "dropout = 0.2\n",
        "# ------------\n",
        "\n",
        "# dataset\n",
        "# !wget https://github.com/DanteNoguez/gpt-wilde/raw/main/wilde.txt\n",
        "with open('wilde.txt', 'r', encoding='utf-8') as f:\n",
        "    text = f.read()\n",
        "\n",
        "# here are all the unique characters that occur in this text\n",
        "chars = sorted(list(set(text)))\n",
        "vocab_size = len(chars)\n",
        "# create a mapping from characters to integers\n",
        "stoi = { ch:i for i,ch in enumerate(chars) }\n",
        "itos = { i:ch for i,ch in enumerate(chars) }\n",
        "encode = lambda s: [stoi[c] for c in s] # encoder: take a string, output a list of integers\n",
        "decode = lambda l: ''.join([itos[i] for i in l]) # decoder: take a list of integers, output a string\n",
        "\n",
        "# Train and test splits\n",
        "data = torch.tensor(encode(text), dtype=torch.long)\n",
        "n = int(0.9*len(data)) # first 90% will be train, rest val\n",
        "train_data = data[:n]\n",
        "val_data = data[n:]\n",
        "\n",
        "# data loading\n",
        "def get_batch(split):\n",
        "    # generate a small batch of data of inputs x and targets y\n",
        "    data = train_data if split == 'train' else val_data\n",
        "    ix = torch.randint(len(data) - block_size, (batch_size,))\n",
        "    x = torch.stack([data[i:i+block_size] for i in ix])\n",
        "    y = torch.stack([data[i+1:i+block_size+1] for i in ix])\n",
        "    x, y = x.to(device), y.to(device)\n",
        "    return x, y\n",
        "\n",
        "@torch.no_grad()\n",
        "def estimate_loss():\n",
        "    out = {}\n",
        "    model.eval()\n",
        "    for split in ['train', 'val']:\n",
        "        losses = torch.zeros(eval_iters)\n",
        "        for k in range(eval_iters):\n",
        "            X, Y = get_batch(split)\n",
        "            logits, loss = model(X, Y)\n",
        "            losses[k] = loss.item()\n",
        "        out[split] = losses.mean()\n",
        "    model.train()\n",
        "    return out\n",
        "\n",
        "# attention\n",
        "class Head(nn.Module):\n",
        "    def __init__(self, head_size):\n",
        "        super().__init__()\n",
        "        self.key = nn.Linear(n_embd, head_size, bias=False)\n",
        "        self.query = nn.Linear(n_embd, head_size, bias=False)\n",
        "        self.value = nn.Linear(n_embd, head_size, bias=False)\n",
        "        self.register_buffer('tril', torch.tril(torch.ones(block_size, block_size)))\n",
        "        self.dropout = nn.Dropout(dropout)\n",
        "\n",
        "    def forward(self, x):\n",
        "        B,T,C = x.shape\n",
        "        k = self.key(x)\n",
        "        q = self.query(x)\n",
        "        #compute attention scores (\"affinities\")\n",
        "        wei = q @ k.transpose(-2, -1) * C**0.5 # (B,T,C) @ (B,C,T) -> (B,T,T)\n",
        "        wei = wei.masked_fill(self.tril[:T, :T] == 0, float('-inf')) # B,T,T\n",
        "        wei = F.softmax(wei, dim=-1) # (B,T,T)\n",
        "        wei = self.dropout(wei)\n",
        "        # perform the weighted aggregation of values\n",
        "        v = self.value(x) # (B,T,C)\n",
        "        out = wei @ v\n",
        "        return out\n",
        "\n",
        "class MultiHeadAttention(nn.Module):\n",
        "    def __init__(self, num_heads, head_size):\n",
        "        super().__init__()\n",
        "        self.heads = nn.ModuleList([Head(head_size) for _ in range(num_heads)])\n",
        "        self.proj = nn.Linear(n_embd, n_embd)\n",
        "        self.dropout = nn.Dropout(dropout)\n",
        "\n",
        "    def forward(self, x):\n",
        "        out = torch.cat([h(x) for h in self.heads], dim=-1)\n",
        "        out = self.dropout(self.proj(out))\n",
        "        return out\n",
        "\n",
        "# FFN\n",
        "class FeedForward(nn.Module):\n",
        "    def __init__(self, n_embd):\n",
        "        super().__init__()\n",
        "        self.net = nn.Sequential(\n",
        "            nn.Linear(n_embd, 4 * n_embd), # multiply by 4 like in the paper\n",
        "            nn.ReLU(),\n",
        "            nn.Linear(4 * n_embd, n_embd),\n",
        "            nn.Dropout(dropout),\n",
        "        )\n",
        "\n",
        "    def forward(self, x):\n",
        "        return self.net(x)\n",
        "\n",
        "# LayerNorm\n",
        "# Same as batch norm but without buffers, calculating means and std across rows instead of columns, no momentum\n",
        "# and no worries about training or test time\n",
        "class LayerNorm(nn.Module):\n",
        "    def __init__(self, dim, epsilon=1e-5):\n",
        "        self.epsilon = epsilon\n",
        "        self.gamma = torch.ones(dim)\n",
        "        self.beta = torch.zeros(dim)\n",
        "\n",
        "    def __call__(self, x):\n",
        "        xmean = x.mean(1, keepdim=True) # across rows\n",
        "        xvar = x.var(1, keepdim=True)\n",
        "        xhat = (x - xmean) / torch.sqrt(xvar + self.eps)\n",
        "        self.out = self.gamma * xhat + self.beta\n",
        "        return self.out\n",
        "\n",
        "    def parameters(self):\n",
        "        return [self.gamma, self.beta]\n",
        "\n",
        "class Block(nn.Module):\n",
        "    # transformer block: communication followed by computation\"\n",
        "    def __init__(self, n_embd, n_head):\n",
        "        super().__init__()\n",
        "        head_size = n_embd // n_head\n",
        "        self.sa = MultiHeadAttention(n_head, head_size)\n",
        "        self.ffn = FeedForward(n_embd)\n",
        "        self.ln1 = nn.LayerNorm(n_embd)\n",
        "        self.ln2 = nn.LayerNorm(n_embd)\n",
        "\n",
        "    def forward(self, x):\n",
        "        x = x + self.sa(self.ln1(x)) # sum with x is residual connections\n",
        "        x = x + self.ffn(self.ln2(x)) # pre-normalization is new, not equal to the paper\n",
        "        return x\n",
        "\n",
        "# super simple transformer (decoder only)\n",
        "class Transformer(nn.Module):\n",
        "\n",
        "    def __init__(self):\n",
        "        super().__init__()\n",
        "        # each token directly reads off the logits for the next token from a lookup table\n",
        "        self.token_embedding_table = nn.Embedding(vocab_size, n_embd)\n",
        "        self.position_embedding_table = nn.Embedding(block_size, n_embd)\n",
        "        # self.sa_head = Head(n_embd)\n",
        "        # self.sa_heads = MultiHeadAttention(6, n_embd//6) # 6 heads \n",
        "        self.blocks = nn.Sequential(*[Block(n_embd, n_head=n_head) for _ in range(n_layer)])\n",
        "        self.ln_f = nn.LayerNorm(n_embd)\n",
        "        #self.ffn = FeedForward(n_embd)\n",
        "        self.lm_head = nn.Linear(n_embd, vocab_size) # language modeling head\n",
        "\n",
        "    def forward(self, idx, targets=None):\n",
        "        B, T = idx.shape\n",
        "\n",
        "        # idx and targets are both (B,T) tensor of integers\n",
        "        tok_emb = self.token_embedding_table(idx) # (B,T,C)\n",
        "        pos_embd = self.position_embedding_table(torch.arange(T, device=device)) # (T,C)\n",
        "        x = tok_emb + pos_embd # (B,T,C)\n",
        "        # x = self.sa_heads(x)\n",
        "        x = self.blocks(x) # aply one head of self-attention (B,T,C)\n",
        "        # x = self.ffn(x)\n",
        "        x = self.ln_f(x)\n",
        "        logits = self.lm_head(x) # (B,T,vocab_size)\n",
        "\n",
        "        if targets is None:\n",
        "            loss = None\n",
        "        else:\n",
        "            B, T, C = logits.shape\n",
        "            logits = logits.view(B*T, C)\n",
        "            targets = targets.view(B*T)\n",
        "            loss = F.cross_entropy(logits, targets)\n",
        "\n",
        "        return logits, loss\n",
        "\n",
        "    def generate(self, idx, max_new_tokens):\n",
        "        # idx is (B, T) array of indices in the current context\n",
        "        for _ in range(max_new_tokens):\n",
        "            # crop idx to the last block_size tokens\n",
        "            idx_cond = idx[:, -block_size:]\n",
        "            # get the predictions\n",
        "            logits, loss = self(idx_cond) \n",
        "            # focus only on the last time step\n",
        "            logits = logits[:, -1, :] # becomes (B, C)\n",
        "            # apply softmax to get probabilities\n",
        "            probs = F.softmax(logits, dim=-1) # (B, C)\n",
        "            # sample from the distribution\n",
        "            idx_next = torch.multinomial(probs, num_samples=1) # (B, 1)\n",
        "            # append sampled index to the running sequence\n",
        "            idx = torch.cat((idx, idx_next), dim=1) # (B, T+1)\n",
        "        return idx\n",
        "\n",
        "model = Transformer()\n",
        "m = model.to(device)\n",
        "\n",
        "# create a PyTorch optimizer\n",
        "optimizer = torch.optim.AdamW(model.parameters(), lr=learning_rate)\n",
        "\n",
        "for iter in range(max_iters):\n",
        "\n",
        "    # every once in a while evaluate the loss on train and val sets\n",
        "    if iter % eval_interval == 0:\n",
        "        losses = estimate_loss()\n",
        "        print(f\"step {iter}: train loss {losses['train']:.4f}, val loss {losses['val']:.4f}\")\n",
        "\n",
        "    # sample a batch of data\n",
        "    xb, yb = get_batch('train')\n",
        "\n",
        "    # evaluate the loss\n",
        "    logits, loss = model(xb, yb)\n",
        "    optimizer.zero_grad(set_to_none=True)\n",
        "    loss.backward()\n",
        "    optimizer.step()\n",
        "\n",
        "# generate from the model\n",
        "context = torch.zeros((1, 1), dtype=torch.long, device=device)\n",
        "print(decode(m.generate(context, max_new_tokens=500)[0].tolist()))"
      ],
      "metadata": {
        "id": "WLTToG4Ohwrr"
      },
      "execution_count": null,
      "outputs": []
    },
    {
      "cell_type": "code",
      "source": [
        "print(decode(m.generate(context, max_new_tokens=500)[0].tolist()))"
      ],
      "metadata": {
        "colab": {
          "base_uri": "https://localhost:8080/"
        },
        "id": "6nZbCqLRUoMA",
        "outputId": "39b7c01f-5237-49d1-ab5b-05ba59cbb5f5"
      },
      "execution_count": 21,
      "outputs": [
        {
          "output_type": "stream",
          "name": "stdout",
          "text": [
            "\n",
            "\n",
            "H\n",
            "\n",
            "ANESil tined pinowhamppl bing cepe. r weroulitope chisur ttr enfr alos aveis, e than t or incak, f dofetigono orsppoung,’s w s whelis mee-u, s ithuthis It s Heladres se ound ir me bulyo cac t t juanghicisby w halil ts ld sind, hathang I tir s t oly Ceend we d We a the pr tusuns wnind chass ar thang. g. he, lls cayoorsupr.\n",
            "\n",
            "I’se ascknat othe nd if ss ‘Creu stimelid t mid ange hose o linoned geeas f lf I wocatles he imand teres seroff ckinours arthall APoneved the (e ed oou wint blinowin Dan b\n"
          ]
        }
      ]
    },
    {
      "cell_type": "code",
      "source": [
        "print(sum(p.numel() for p in m.parameters())/1e6, 'M parameters')"
      ],
      "metadata": {
        "id": "9gIBaAZJY7eV",
        "colab": {
          "base_uri": "https://localhost:8080/"
        },
        "outputId": "74bd6290-f7f7-4122-d04f-dd6c2ee5f3f3"
      },
      "execution_count": 22,
      "outputs": [
        {
          "output_type": "stream",
          "name": "stdout",
          "text": [
            "25.45368 M parameters\n"
          ]
        }
      ]
    },
    {
      "cell_type": "code",
      "source": [
        "import torch\n",
        "import torch.nn as nn\n",
        "from torch.nn import functional as F\n",
        "\n",
        "# hyperparameters\n",
        "batch_size = 64 # how many independent sequences will we process in parallel?\n",
        "block_size = 256 # what is the maximum context length for predictions?\n",
        "max_iters = 5000\n",
        "eval_interval = 500\n",
        "learning_rate = 3e-4\n",
        "device = 'cuda' if torch.cuda.is_available() else 'cpu'\n",
        "eval_iters = 200\n",
        "n_embd = 512\n",
        "n_head = 8\n",
        "n_layer = 8\n",
        "dropout = 0.2\n",
        "# ------------\n",
        "\n",
        "torch.manual_seed(1337)\n",
        "\n",
        "# wget https://raw.githubusercontent.com/karpathy/char-rnn/master/data/tinyshakespeare/input.txt\n",
        "with open('wilde.txt', 'r', encoding='utf-8') as f:\n",
        "    text = f.read()\n",
        "\n",
        "# here are all the unique characters that occur in this text\n",
        "chars = sorted(list(set(text)))\n",
        "vocab_size = len(chars)\n",
        "# create a mapping from characters to integers\n",
        "stoi = { ch:i for i,ch in enumerate(chars) }\n",
        "itos = { i:ch for i,ch in enumerate(chars) }\n",
        "encode = lambda s: [stoi[c] for c in s] # encoder: take a string, output a list of integers\n",
        "decode = lambda l: ''.join([itos[i] for i in l]) # decoder: take a list of integers, output a string\n",
        "\n",
        "# Train and test splits\n",
        "data = torch.tensor(encode(text), dtype=torch.long)\n",
        "n = int(0.9*len(data)) # first 90% will be train, rest val\n",
        "train_data = data[:n]\n",
        "val_data = data[n:]\n",
        "\n",
        "# data loading\n",
        "def get_batch(split):\n",
        "    # generate a small batch of data of inputs x and targets y\n",
        "    data = train_data if split == 'train' else val_data\n",
        "    ix = torch.randint(len(data) - block_size, (batch_size,))\n",
        "    x = torch.stack([data[i:i+block_size] for i in ix])\n",
        "    y = torch.stack([data[i+1:i+block_size+1] for i in ix])\n",
        "    x, y = x.to(device), y.to(device)\n",
        "    return x, y\n",
        "\n",
        "@torch.no_grad()\n",
        "def estimate_loss():\n",
        "    out = {}\n",
        "    model.eval()\n",
        "    for split in ['train', 'val']:\n",
        "        losses = torch.zeros(eval_iters)\n",
        "        for k in range(eval_iters):\n",
        "            X, Y = get_batch(split)\n",
        "            logits, loss = model(X, Y)\n",
        "            losses[k] = loss.item()\n",
        "        out[split] = losses.mean()\n",
        "    model.train()\n",
        "    return out\n",
        "\n",
        "class Head(nn.Module):\n",
        "    \"\"\" one head of self-attention \"\"\"\n",
        "\n",
        "    def __init__(self, head_size):\n",
        "        super().__init__()\n",
        "        self.key = nn.Linear(n_embd, head_size, bias=False)\n",
        "        self.query = nn.Linear(n_embd, head_size, bias=False)\n",
        "        self.value = nn.Linear(n_embd, head_size, bias=False)\n",
        "        self.register_buffer('tril', torch.tril(torch.ones(block_size, block_size)))\n",
        "\n",
        "        self.dropout = nn.Dropout(dropout)\n",
        "\n",
        "    def forward(self, x):\n",
        "        B,T,C = x.shape\n",
        "        k = self.key(x)   # (B,T,C)\n",
        "        q = self.query(x) # (B,T,C)\n",
        "        # compute attention scores (\"affinities\")\n",
        "        wei = q @ k.transpose(-2,-1) * C**-0.5 # (B, T, C) @ (B, C, T) -> (B, T, T)\n",
        "        wei = wei.masked_fill(self.tril[:T, :T] == 0, float('-inf')) # (B, T, T)\n",
        "        wei = F.softmax(wei, dim=-1) # (B, T, T)\n",
        "        wei = self.dropout(wei)\n",
        "        # perform the weighted aggregation of the values\n",
        "        v = self.value(x) # (B,T,C)\n",
        "        out = wei @ v # (B, T, T) @ (B, T, C) -> (B, T, C)\n",
        "        return out\n",
        "\n",
        "class MultiHeadAttention(nn.Module):\n",
        "    \"\"\" multiple heads of self-attention in parallel \"\"\"\n",
        "\n",
        "    def __init__(self, num_heads, head_size):\n",
        "        super().__init__()\n",
        "        self.heads = nn.ModuleList([Head(head_size) for _ in range(num_heads)])\n",
        "        self.proj = nn.Linear(n_embd, n_embd)\n",
        "        self.dropout = nn.Dropout(dropout)\n",
        "\n",
        "    def forward(self, x):\n",
        "        out = torch.cat([h(x) for h in self.heads], dim=-1)\n",
        "        out = self.dropout(self.proj(out))\n",
        "        return out\n",
        "\n",
        "class FeedFoward(nn.Module):\n",
        "    \"\"\" a simple linear layer followed by a non-linearity \"\"\"\n",
        "\n",
        "    def __init__(self, n_embd):\n",
        "        super().__init__()\n",
        "        self.net = nn.Sequential(\n",
        "            nn.Linear(n_embd, 4 * n_embd),\n",
        "            nn.ReLU(),\n",
        "            nn.Linear(4 * n_embd, n_embd),\n",
        "            nn.Dropout(dropout),\n",
        "        )\n",
        "\n",
        "    def forward(self, x):\n",
        "        return self.net(x)\n",
        "\n",
        "class Block(nn.Module):\n",
        "    \"\"\" Transformer block: communication followed by computation \"\"\"\n",
        "\n",
        "    def __init__(self, n_embd, n_head):\n",
        "        # n_embd: embedding dimension, n_head: the number of heads we'd like\n",
        "        super().__init__()\n",
        "        head_size = n_embd // n_head\n",
        "        self.sa = MultiHeadAttention(n_head, head_size)\n",
        "        self.ffwd = FeedFoward(n_embd)\n",
        "        self.ln1 = nn.LayerNorm(n_embd)\n",
        "        self.ln2 = nn.LayerNorm(n_embd)\n",
        "\n",
        "    def forward(self, x):\n",
        "        x = x + self.sa(self.ln1(x))\n",
        "        x = x + self.ffwd(self.ln2(x))\n",
        "        return x\n",
        "\n",
        "# super simple bigram model\n",
        "class BigramLanguageModel(nn.Module):\n",
        "\n",
        "    def __init__(self):\n",
        "        super().__init__()\n",
        "        # each token directly reads off the logits for the next token from a lookup table\n",
        "        self.token_embedding_table = nn.Embedding(vocab_size, n_embd)\n",
        "        self.position_embedding_table = nn.Embedding(block_size, n_embd)\n",
        "        self.blocks = nn.Sequential(*[Block(n_embd, n_head=n_head) for _ in range(n_layer)])\n",
        "        self.ln_f = nn.LayerNorm(n_embd) # final layer norm\n",
        "        self.lm_head = nn.Linear(n_embd, vocab_size)\n",
        "\n",
        "    def forward(self, idx, targets=None):\n",
        "        B, T = idx.shape\n",
        "\n",
        "        # idx and targets are both (B,T) tensor of integers\n",
        "        tok_emb = self.token_embedding_table(idx) # (B,T,C)\n",
        "        pos_emb = self.position_embedding_table(torch.arange(T, device=device)) # (T,C)\n",
        "        x = tok_emb + pos_emb # (B,T,C)\n",
        "        x = self.blocks(x) # (B,T,C)\n",
        "        x = self.ln_f(x) # (B,T,C)\n",
        "        logits = self.lm_head(x) # (B,T,vocab_size)\n",
        "\n",
        "        if targets is None:\n",
        "            loss = None\n",
        "        else:\n",
        "            B, T, C = logits.shape\n",
        "            logits = logits.view(B*T, C)\n",
        "            targets = targets.view(B*T)\n",
        "            loss = F.cross_entropy(logits, targets)\n",
        "\n",
        "        return logits, loss\n",
        "\n",
        "    def generate(self, idx, max_new_tokens):\n",
        "        # idx is (B, T) array of indices in the current context\n",
        "        for _ in range(max_new_tokens):\n",
        "            # crop idx to the last block_size tokens\n",
        "            idx_cond = idx[:, -block_size:]\n",
        "            # get the predictions\n",
        "            logits, loss = self(idx_cond)\n",
        "            # focus only on the last time step\n",
        "            logits = logits[:, -1, :] # becomes (B, C)\n",
        "            # apply softmax to get probabilities\n",
        "            probs = F.softmax(logits, dim=-1) # (B, C)\n",
        "            # sample from the distribution\n",
        "            idx_next = torch.multinomial(probs, num_samples=1) # (B, 1)\n",
        "            # append sampled index to the running sequence\n",
        "            idx = torch.cat((idx, idx_next), dim=1) # (B, T+1)\n",
        "        return idx\n",
        "\n",
        "model = BigramLanguageModel()\n",
        "m = model.to(device)\n",
        "# print the number of parameters in the model\n",
        "print(sum(p.numel() for p in m.parameters())/1e6, 'M parameters')\n",
        "\n",
        "# create a PyTorch optimizer\n",
        "optimizer = torch.optim.AdamW(model.parameters(), lr=learning_rate)\n",
        "\n",
        "for iter in range(max_iters):\n",
        "\n",
        "    # every once in a while evaluate the loss on train and val sets\n",
        "    if iter % eval_interval == 0 or iter == max_iters - 1:\n",
        "        losses = estimate_loss()\n",
        "        print(f\"step {iter}: train loss {losses['train']:.4f}, val loss {losses['val']:.4f}\")\n",
        "\n",
        "    # sample a batch of data\n",
        "    xb, yb = get_batch('train')\n",
        "\n",
        "    # evaluate the loss\n",
        "    logits, loss = model(xb, yb)\n",
        "    optimizer.zero_grad(set_to_none=True)\n",
        "    loss.backward()\n",
        "    optimizer.step()\n",
        "\n",
        "# generate from the model\n",
        "context = torch.zeros((1, 1), dtype=torch.long, device=device)\n",
        "print(decode(m.generate(context, max_new_tokens=500)[0].tolist()))"
      ],
      "metadata": {
        "colab": {
          "base_uri": "https://localhost:8080/"
        },
        "id": "pyJKOj3TYhNE",
        "outputId": "7e088626-af01-4edd-f146-8cf166ad2e23"
      },
      "execution_count": 3,
      "outputs": [
        {
          "output_type": "stream",
          "name": "stdout",
          "text": [
            "25.45368 M parameters\n",
            "step 0: train loss 4.9631, val loss 4.9682\n",
            "step 500: train loss 2.0226, val loss 2.0326\n",
            "step 1000: train loss 1.5666, val loss 1.5973\n",
            "step 1500: train loss 1.3837, val loss 1.4434\n",
            "step 2000: train loss 1.2860, val loss 1.3601\n",
            "step 2500: train loss 1.2232, val loss 1.3170\n",
            "step 3000: train loss 1.1799, val loss 1.2904\n",
            "step 3500: train loss 1.1445, val loss 1.2655\n",
            "step 4000: train loss 1.1132, val loss 1.2527\n",
            "step 4500: train loss 1.0882, val loss 1.2383\n",
            "step 4999: train loss 1.0648, val loss 1.2267\n",
            "\n",
            "\n",
            "CHEVELEY. Ah! I red it for you in everything.”\n",
            "\n",
            "Hallward, cannot be the picture, girled over success with me as nothing of the photogramb’s, though of temper to a seal complete you have too ears. But Partiae is telling to Basil, a heart-fiul face did not him, an enthusiastic blue of Southeric and struggled. Five times of flaunt and môid by fall of wildling apprehends, and thus to see it from Brusalium and hath dagges Wedribe — of Common mistakes it as beautiful, that seemed to hear u weary that\n"
          ]
        }
      ]
    },
    {
      "cell_type": "code",
      "source": [
        "from pathlib import Path\n",
        "\n",
        "def save_model(model: torch.nn.Module, target_dir: str, model_name: str):\n",
        "  \"\"\"Saves a PyTorch model to a target directory\"\"\"\n",
        "  target_dir_path = Path(target_dir)\n",
        "  target_dir_path.mkdir(parents=True, exist_ok=True)\n",
        "\n",
        "  assert model_name.endswith('.pth') or model_name.endswith('.pt'), 'model_name should end with .pt or .pth'\n",
        "  model_save_path = target_dir_path / model_name\n",
        "\n",
        "  print(f'Saving model to: {model_save_path}.')\n",
        "  torch.save(obj=model.state_dict(),\n",
        "             f=model_save_path)"
      ],
      "metadata": {
        "id": "PlK3mmGwPn6T"
      },
      "execution_count": 4,
      "outputs": []
    },
    {
      "cell_type": "code",
      "source": [
        "save_model(m, 'models', 'gpt-wilde.pth')"
      ],
      "metadata": {
        "colab": {
          "base_uri": "https://localhost:8080/"
        },
        "id": "owI0Tdf8Pz77",
        "outputId": "53476270-ad43-46b4-e391-0bfd1de39c3b"
      },
      "execution_count": 5,
      "outputs": [
        {
          "output_type": "stream",
          "name": "stdout",
          "text": [
            "Saving model to: models/gpt-wilde.pth.\n"
          ]
        }
      ]
    },
    {
      "cell_type": "code",
      "source": [
        "open('more.txt', 'w').write(decode(m.generate(context, max_new_tokens=10000)[0].tolist()))"
      ],
      "metadata": {
        "colab": {
          "base_uri": "https://localhost:8080/"
        },
        "id": "4vFt2vFxfMmi",
        "outputId": "46849934-aeca-415e-ad17-3b1c0d5be581"
      },
      "execution_count": 6,
      "outputs": [
        {
          "output_type": "execute_result",
          "data": {
            "text/plain": [
              "10001"
            ]
          },
          "metadata": {},
          "execution_count": 6
        }
      ]
    }
  ]
}