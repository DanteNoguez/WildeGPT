{
  "nbformat": 4,
  "nbformat_minor": 0,
  "metadata": {
    "colab": {
      "provenance": []
    },
    "kernelspec": {
      "name": "python3",
      "display_name": "Python 3"
    },
    "language_info": {
      "name": "python"
    }
  },
  "cells": [
    {
      "cell_type": "code",
      "execution_count": 1,
      "metadata": {
        "colab": {
          "base_uri": "https://localhost:8080/"
        },
        "id": "IstBu2UjxjfS",
        "outputId": "1c62db1a-4835-4d7e-9196-dc87c927d49b"
      },
      "outputs": [
        {
          "output_type": "stream",
          "name": "stdout",
          "text": [
            "--2023-01-17 22:55:06--  https://github.com/DanteNoguez/gpt-wilde/raw/main/wilde.txt\n",
            "Resolving github.com (github.com)... 140.82.113.4\n",
            "Connecting to github.com (github.com)|140.82.113.4|:443... connected.\n",
            "HTTP request sent, awaiting response... 302 Found\n",
            "Location: https://raw.githubusercontent.com/DanteNoguez/gpt-wilde/main/wilde.txt [following]\n",
            "--2023-01-17 22:55:07--  https://raw.githubusercontent.com/DanteNoguez/gpt-wilde/main/wilde.txt\n",
            "Resolving raw.githubusercontent.com (raw.githubusercontent.com)... 185.199.108.133, 185.199.109.133, 185.199.110.133, ...\n",
            "Connecting to raw.githubusercontent.com (raw.githubusercontent.com)|185.199.108.133|:443... connected.\n",
            "HTTP request sent, awaiting response... 200 OK\n",
            "Length: 4818475 (4.6M) [text/plain]\n",
            "Saving to: ‘wilde.txt’\n",
            "\n",
            "wilde.txt           100%[===================>]   4.59M  --.-KB/s    in 0.03s   \n",
            "\n",
            "2023-01-17 22:55:07 (173 MB/s) - ‘wilde.txt’ saved [4818475/4818475]\n",
            "\n"
          ]
        }
      ],
      "source": [
        "!wget https://github.com/DanteNoguez/gpt-wilde/raw/main/wilde.txt"
      ]
    },
    {
      "cell_type": "code",
      "source": [
        "with open('wilde.txt', 'r', encoding='utf-8') as f:\n",
        "  text = f.read()"
      ],
      "metadata": {
        "id": "8qnDxSAXxxck"
      },
      "execution_count": 2,
      "outputs": []
    },
    {
      "cell_type": "code",
      "source": [
        "len(text)"
      ],
      "metadata": {
        "colab": {
          "base_uri": "https://localhost:8080/"
        },
        "id": "61WTYOojx-us",
        "outputId": "e75eec67-972f-4a44-f8cc-96a6b2037cff"
      },
      "execution_count": 3,
      "outputs": [
        {
          "output_type": "execute_result",
          "data": {
            "text/plain": [
              "4763434"
            ]
          },
          "metadata": {},
          "execution_count": 3
        }
      ]
    },
    {
      "cell_type": "code",
      "source": [
        "chars = sorted(list(set(text)))\n",
        "vocab_size = len(chars)\n",
        "print(''.join(chars))\n",
        "print(vocab_size)"
      ],
      "metadata": {
        "colab": {
          "base_uri": "https://localhost:8080/"
        },
        "id": "p98jI9x-yABf",
        "outputId": "453ea260-bc63-4164-b8b9-726b389d73c0"
      },
      "execution_count": 4,
      "outputs": [
        {
          "output_type": "stream",
          "name": "stdout",
          "text": [
            "\n",
            " !&'()*,-./0123456789:;?ABCDEFGHIJKLMNOPQRSTUVWXYZ[\\]abcdefghijklmnopqrstuvwxyz£ÀÆÈÉàáâäæçèéêëîïóôöùûüÿŒœ–—‘’“”\n",
            "112\n"
          ]
        }
      ]
    },
    {
      "cell_type": "code",
      "source": [
        "#character level tokenizer\n",
        "stoi = {ch:i for i,ch in enumerate(chars)} #lookup table, mapping from characters to integers\n",
        "itos = {i:ch for i,ch in enumerate(chars)}\n",
        "encode = lambda s: [stoi[c] for c in s] #encoder: take a string, output integers\n",
        "decode = lambda l: ''.join([itos[i] for i in l]) #decoder: take integers, output string"
      ],
      "metadata": {
        "id": "PZqPUdk50QiZ"
      },
      "execution_count": 15,
      "outputs": []
    },
    {
      "cell_type": "code",
      "source": [
        "encode(\"hello there\"), decode(encode(\"hello there\"))"
      ],
      "metadata": {
        "colab": {
          "base_uri": "https://localhost:8080/"
        },
        "id": "3vTNsHOp8wAE",
        "outputId": "478008de-8b8a-487f-d0e2-97ad32f172f4"
      },
      "execution_count": 16,
      "outputs": [
        {
          "output_type": "execute_result",
          "data": {
            "text/plain": [
              "([61, 58, 65, 65, 68, 1, 73, 61, 58, 71, 58], 'hello there')"
            ]
          },
          "metadata": {},
          "execution_count": 16
        }
      ]
    },
    {
      "cell_type": "code",
      "source": [
        "import torch\n",
        "\n",
        "#encoding dataset\n",
        "data = torch.tensor(encode(text), dtype=torch.long)\n",
        "print(data.shape, data.dtype)\n",
        "print(data[:100]) # todo el texto encoded"
      ],
      "metadata": {
        "colab": {
          "base_uri": "https://localhost:8080/"
        },
        "id": "ayUkccgE85xl",
        "outputId": "f78fcf91-f466-4bc0-d7dc-c0ae2ef5b07a"
      },
      "execution_count": 18,
      "outputs": [
        {
          "output_type": "stream",
          "name": "stdout",
          "text": [
            "torch.Size([4763434]) torch.int64\n",
            "tensor([  0,  43,  56,  58,  67,  58,  10,   1, 107,   1,  25,   1,  42,  74,\n",
            "         72,  72,  62,  54,  67,   1,  33,  67,  67,  10,   0,   0,   0,   0,\n",
            "         36,  54,  71,  60,  58,   1,  57,  68,  68,  71,   1,  68,  69,  58,\n",
            "         67,  62,  67,  60,   1,  68,  67,   1,  72,  67,  68,  76,  78,   1,\n",
            "         65,  54,  67,  57,  72,  56,  54,  69,  58,   1,  54,  73,   1,  55,\n",
            "         54,  56,  64,   1,  68,  59,   1,  72,  73,  54,  60,  58,  10,   0,\n",
            "          0,   0,   0,  40,  58,  73,  58,  71,   1,  43,  54,  55,  68,  74,\n",
            "         71,  68])\n"
          ]
        }
      ]
    },
    {
      "cell_type": "code",
      "source": [
        "#split data into train and validation sets\n",
        "n = int(0.9*len(data)) #90% train, 10%val\n",
        "train_data = data[:n]\n",
        "val_data = data[n:]"
      ],
      "metadata": {
        "id": "JMlkwpvd9ZvL"
      },
      "execution_count": 19,
      "outputs": []
    },
    {
      "cell_type": "code",
      "source": [
        "import numpy as np\n",
        "block_size = 8 #or context length\n",
        "train_data[:block_size+1], decode(train_data[:block_size+1].numpy())"
      ],
      "metadata": {
        "colab": {
          "base_uri": "https://localhost:8080/"
        },
        "id": "UFnq3Vxo-3Q5",
        "outputId": "fd133f13-6825-4158-ee39-22467b76eda0"
      },
      "execution_count": 30,
      "outputs": [
        {
          "output_type": "execute_result",
          "data": {
            "text/plain": [
              "(tensor([  0,  43,  56,  58,  67,  58,  10,   1, 107]), '\\nScene. —')"
            ]
          },
          "metadata": {},
          "execution_count": 30
        }
      ]
    },
    {
      "cell_type": "code",
      "source": [
        "#example\n",
        "x = train_data[:block_size] #context\n",
        "y = train_data[1:block_size+1] #prediction\n",
        "for t in range(block_size):\n",
        "  context = x[:t+1]\n",
        "  target = y[t]\n",
        "  print(f\"when input is {context}, the target is {target}\")"
      ],
      "metadata": {
        "colab": {
          "base_uri": "https://localhost:8080/"
        },
        "id": "NoSc756q_Vuz",
        "outputId": "ffa570e3-6c40-4a39-d1b1-7de87055023f"
      },
      "execution_count": 31,
      "outputs": [
        {
          "output_type": "stream",
          "name": "stdout",
          "text": [
            "when input is tensor([0]), the target is 43\n",
            "when input is tensor([ 0, 43]), the target is 56\n",
            "when input is tensor([ 0, 43, 56]), the target is 58\n",
            "when input is tensor([ 0, 43, 56, 58]), the target is 67\n",
            "when input is tensor([ 0, 43, 56, 58, 67]), the target is 58\n",
            "when input is tensor([ 0, 43, 56, 58, 67, 58]), the target is 10\n",
            "when input is tensor([ 0, 43, 56, 58, 67, 58, 10]), the target is 1\n",
            "when input is tensor([ 0, 43, 56, 58, 67, 58, 10,  1]), the target is 107\n"
          ]
        }
      ]
    },
    {
      "cell_type": "code",
      "source": [],
      "metadata": {
        "id": "bLjvS-58AxrI"
      },
      "execution_count": null,
      "outputs": []
    }
  ]
}